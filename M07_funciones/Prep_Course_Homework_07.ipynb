{
 "cells": [
  {
   "attachments": {},
   "cell_type": "markdown",
   "metadata": {},
   "source": [
    "## Funciones"
   ]
  },
  {
   "attachments": {},
   "cell_type": "markdown",
   "metadata": {},
   "source": [
    "1) Crear una función que reciba un número como parámetro y devuelva True si es primo y False si no lo es"
   ]
  },
  {
   "cell_type": "code",
   "execution_count": 1,
   "metadata": {},
   "outputs": [
    {
     "name": "stdout",
     "output_type": "stream",
     "text": [
      "El número 523 es primo.\n"
     ]
    }
   ],
   "source": [
    "def is_prime(number):\n",
    "    if number < 2:  # Los números menores a 2 no son primos\n",
    "        return False\n",
    "    for i in range(2, int(number**0.5) + 1): \n",
    "        if number % i == 0:\n",
    "            return False\n",
    "    return True\n",
    "\n",
    "number = int(input(\"Ingrese un número: \"))\n",
    "if is_prime(number):\n",
    "    print(\"El número\", number, \"es primo.\")\n",
    "else:\n",
    "    print(\"El número\", number, \"no es primo.\")\n"
   ]
  },
  {
   "attachments": {},
   "cell_type": "markdown",
   "metadata": {},
   "source": [
    "2) Utilizando la función del punto 1, realizar otra función que reciba de parámetro una lista de números y devuelva sólo aquellos que son primos en otra lista"
   ]
  },
  {
   "cell_type": "code",
   "execution_count": 9,
   "metadata": {},
   "outputs": [
    {
     "name": "stdout",
     "output_type": "stream",
     "text": [
      "[2458, 7167, 4982, 4703, 8511, 2453, 7300, 257, 4575, 2082]\n",
      "[4703, 257]\n"
     ]
    }
   ],
   "source": [
    "import random\n",
    "\n",
    "random_numbers = []\n",
    "prime_numbers = []\n",
    "\n",
    "while len(random_numbers) < 10:\n",
    "    num = random.randint(1, 9999)  \n",
    "    if num in random_numbers:\n",
    "        continue \n",
    "    if is_prime(num):\n",
    "        prime_numbers.append(num)\n",
    "    random_numbers.append(num)\n",
    "    \n",
    "print(random_numbers)\n",
    "print(prime_numbers)"
   ]
  },
  {
   "attachments": {},
   "cell_type": "markdown",
   "metadata": {},
   "source": [
    "3) Crear una función que al recibir una lista de números, devuelva el que más se repite y cuántas veces lo hace. Si hay más de un \"más repetido\", que devuelva cualquiera"
   ]
  },
  {
   "cell_type": "code",
   "execution_count": 10,
   "metadata": {},
   "outputs": [
    {
     "name": "stdout",
     "output_type": "stream",
     "text": [
      "Lista de números aleatorios:\n",
      "[25, 26, 41, 18, 49, 46, 24, 5, 2, 31]\n",
      "Número más repetido: 25\n",
      "Cantidad de repeticiones: 1\n",
      "Números primos: [41, 5, 2, 31]\n"
     ]
    }
   ],
   "source": [
    "import random\n",
    "\n",
    "def find_most_repeated(numbers):\n",
    "    counts = {}\n",
    "    for num in numbers:\n",
    "        if num in counts:\n",
    "            counts[num] += 1\n",
    "        else:\n",
    "            counts[num] = 1\n",
    "    \n",
    "    most_repeated = max(counts, key=counts.get) # type: ignore\n",
    "    repetitions = counts[most_repeated]\n",
    "    \n",
    "    return most_repeated, repetitions\n",
    "\n",
    "random_numbers = []\n",
    "prime_numbers = []\n",
    "\n",
    "while len(random_numbers) < 10:\n",
    "    num = random.randint(1, 50)\n",
    "    if is_prime(num):\n",
    "        prime_numbers.append(num)\n",
    "    random_numbers.append(num)\n",
    "\n",
    "most_repeated_num, repetitions = find_most_repeated(random_numbers)\n",
    "\n",
    "print(\"Lista de números aleatorios:\")\n",
    "print(random_numbers)\n",
    "print(\"Número más repetido:\", most_repeated_num)\n",
    "print(\"Cantidad de repeticiones:\", repetitions)\n",
    "print(\"Números primos:\", prime_numbers)\n"
   ]
  },
  {
   "attachments": {},
   "cell_type": "markdown",
   "metadata": {},
   "source": [
    "4) A la función del punto 3, agregar un parámetro más, que permita elegir si se requiere el menor o el mayor de los mas repetidos."
   ]
  },
  {
   "cell_type": "code",
   "execution_count": 145,
   "metadata": {},
   "outputs": [
    {
     "name": "stdout",
     "output_type": "stream",
     "text": [
      "Lista de números aleatorios:\n",
      "[25, 92, 87, 32, 90, 35, 23, 51, 14, 28, 21, 60, 67, 80, 57, 61, 42, 67, 98, 28, 72, 33, 2, 98, 98, 14, 26, 22, 69, 27, 45, 78, 24, 72, 13, 57, 75, 7, 81, 84, 49, 4, 67, 62, 98, 69, 78, 78, 55, 87, 53, 4, 38, 32, 41, 76, 94, 97, 76, 30, 2, 96, 21, 28, 6, 54, 38, 45, 76, 43, 64, 92, 97, 94, 54, 2, 55, 94, 57, 91, 71, 50, 59, 67, 45, 15, 91, 9, 73, 46, 17, 68, 56, 26, 30, 96, 24, 59, 51, 74, 20, 25, 13, 67, 50, 88, 79, 15, 51, 95, 43, 74, 41, 72, 35, 97, 66, 25, 18, 69, 67, 35, 47, 58, 89, 11, 77, 98, 28, 91, 41, 32, 96, 6, 1, 39, 86, 99, 86, 8, 3, 51, 10, 61, 91, 17, 99, 91, 33, 42, 60, 37, 8, 63, 51, 68, 36, 43, 47, 61, 92, 30, 38, 100, 50, 47, 18, 92, 67, 57, 33, 26, 19, 30, 26, 40, 95, 76, 37, 37, 100, 15, 97, 52, 61, 66, 4, 58, 94, 31, 63, 71, 33, 83, 61, 74, 37, 62, 71, 58, 17, 57, 15, 13, 95, 72, 94, 96, 80, 96, 52, 51, 51, 36, 42, 36, 89, 58, 78, 87, 83, 18, 7, 66, 71, 77, 50, 2, 79, 53, 22, 88, 27, 86, 14, 50, 92, 25, 29, 14, 50, 75, 47, 13, 26, 66, 32, 62, 3, 11, 3, 61, 34, 77, 96, 54, 23, 40, 97, 76, 2, 73, 59, 36, 3, 61, 41, 11, 34, 49, 8, 28, 50, 75, 40, 24, 66, 3, 39, 52, 20, 94, 86, 26, 13, 90, 87, 12, 79, 33, 54, 5, 17, 93, 32, 92, 83, 77, 77, 57, 68, 55, 29, 49, 19, 68, 10, 48, 47, 43, 13, 52, 87, 52, 1, 26, 81, 33, 49, 6, 28, 38, 23, 100, 95, 55, 40, 76, 39, 57, 45, 38, 81, 47, 39, 89, 37, 62, 12, 38, 40, 14, 31, 94, 43, 100, 10, 54, 83, 87, 69, 26, 31, 20, 67, 30, 69, 72, 99, 30, 69, 55, 24, 30, 32, 11, 18, 64, 91, 78, 38, 38, 14, 32, 36, 84, 16, 63, 23, 34, 34, 91, 10, 4, 24, 48, 44, 29, 72, 81, 73, 33, 20, 76, 8, 64, 91, 70, 63, 77, 44, 51, 25, 71, 20, 20, 37, 29, 86, 23, 65, 92, 20, 46, 84, 31, 40, 87, 30, 78, 32, 70, 79, 44, 85, 69, 60, 51, 2, 73, 70, 63, 8, 50, 89, 8, 85, 14, 83, 1, 19, 25, 90, 23, 45, 8, 30, 19, 93, 99, 6, 93, 24, 76, 14, 27, 19, 21, 34, 74, 4, 13, 63, 36, 15, 42, 78, 28, 73, 74, 59, 95, 7, 26, 45, 50, 95, 88, 41, 75, 40, 78, 27, 69, 88, 15, 65, 49, 44, 53, 14, 75, 62, 100, 16, 37, 45, 18, 84, 60, 99, 96, 36, 49, 35, 70, 6, 26, 43, 89, 38, 98, 70, 22, 87, 79, 84, 72, 60, 46, 42, 70, 12, 49, 6, 36, 90, 91, 83, 17, 54, 74, 45, 14, 43, 81, 64, 41, 19, 7, 13, 67, 97, 32, 44, 10, 67, 45, 14, 91, 15, 1, 97, 84, 1, 27, 18, 68, 15, 6, 17, 42, 65, 66, 47, 26, 3, 87, 67, 13, 30, 77, 16, 7, 85, 51, 63, 66, 86, 66, 20, 34, 13, 25, 5, 41, 82, 67, 89, 75, 17, 61, 38, 86, 44, 73, 59, 96, 66, 100, 8, 23, 22, 79, 66, 85, 59, 63, 94, 75, 45, 9, 5, 100, 49, 23, 7, 43, 42, 78, 52, 59, 60, 2, 68, 50, 32, 58, 12, 88, 25, 64, 15, 56, 61, 41, 81, 44, 93, 50, 6, 48, 71, 40, 17, 85, 60, 77, 43, 87, 59, 62, 6, 5, 14, 35, 97, 80, 46, 21, 40, 21, 81, 53, 22, 63, 44, 82, 89, 84, 83, 36, 19, 82, 51, 79, 4, 39, 98, 82, 86, 24, 91, 70, 3, 80, 94, 11, 5, 85, 68, 14, 84, 49, 49, 21, 2, 55, 59, 50, 93, 77, 40, 61, 31, 33, 49, 70, 57, 17, 2, 11, 33, 88, 3, 54, 72, 56, 37, 17, 54, 63, 14, 79, 77, 96, 78, 63, 94, 10, 7, 78, 54, 9, 1, 99, 26, 26, 68, 79, 12, 72, 82, 86, 91, 31, 31, 37, 29, 87, 70, 70, 6, 89, 60, 59, 67, 58, 6, 84, 24, 87, 71, 30, 20, 100, 36, 30, 66, 76, 72, 53, 39, 37, 46, 81, 44, 11, 22, 62, 12, 62, 22, 99, 96, 62, 33, 1, 34, 67, 14, 23, 69, 32, 82, 16, 77, 72, 6, 83, 35, 62, 79, 68, 25, 55, 26, 14, 89, 97, 77, 26, 22, 95, 35, 65, 74, 73, 9, 12, 39, 59, 47, 36, 54, 59, 25, 87, 58, 41, 96, 77, 83, 24, 56, 60, 77, 17, 95, 80, 21, 100, 16, 5, 29, 86, 51, 18, 18, 100, 31, 38, 87, 75, 16, 83, 38, 71, 92, 75, 48, 88, 82, 57, 66, 48, 96, 69, 16, 70, 37, 31, 17, 44, 15, 66, 22, 4, 61, 27, 79, 78, 67, 90, 27, 13, 14, 25, 49, 89, 65, 75, 49, 89, 56, 21, 59, 10, 59, 12, 68, 5, 52, 94, 32, 91, 2, 35, 82, 73, 29, 79, 80, 51, 41, 59, 44, 68, 22, 26, 5, 12, 41, 28, 7, 85, 29, 51, 77, 49, 92, 34, 10, 47, 44, 82, 64, 38, 55, 31, 59, 53, 65, 46, 56, 33, 3, 15, 3, 41, 73, 67, 62, 59, 97, 53, 63, 22, 25, 91, 4, 76, 34, 76, 36, 99, 81, 74, 83, 62, 33, 78, 11, 21, 2, 54, 15, 98, 91, 53, 31, 6, 17, 94, 59, 69, 69, 4, 46, 100, 78, 16, 61, 39, 82, 44, 53, 77, 86, 81]\n",
      "Número más repetido: 59\n",
      "Cantidad de repeticiones: 18\n"
     ]
    }
   ],
   "source": [
    "def find_most_repeated(numbers, mode='most'):\n",
    "    counts = {}\n",
    "    for num in numbers:\n",
    "        if num in counts:\n",
    "            counts[num] += 1\n",
    "        else:\n",
    "            counts[num] = 1\n",
    "\n",
    "    if mode == 'most':\n",
    "        result = max(counts, key=counts.get) # type: ignore\n",
    "    elif mode == 'least':\n",
    "        result = min(counts, key=counts.get) # type: ignore\n",
    "    else:\n",
    "        raise ValueError(\"Invalid mode. Mode must be 'most' or 'least'.\")\n",
    "        \n",
    "    repetitions = counts[result]\n",
    "    \n",
    "    return result, repetitions\n",
    "\n",
    "most_repeated_num, repetitions = find_most_repeated(random_numbers, mode='most')\n",
    "least_repeated_num, repetitions_least = find_most_repeated(random_numbers, mode='least')\n",
    "\n",
    "print(\"Lista de números aleatorios:\")\n",
    "print(random_numbers)\n",
    "\n",
    "mode_input = input(\"Ingrese el modo ('most' para el más repetido, dejar vacío para el menos repetido): \")\n",
    "\n",
    "if mode_input:\n",
    "    mode = 'most'\n",
    "else:\n",
    "    mode = 'least'\n",
    "\n",
    "if mode == 'most':\n",
    "    print(\"Número más repetido:\", most_repeated_num)\n",
    "    print(\"Cantidad de repeticiones:\", repetitions)\n",
    "elif mode == 'least':\n",
    "    print(\"Número menos repetido:\", least_repeated_num)\n",
    "    print(\"Cantidad de repeticiones:\", repetitions_least)\n",
    "else:\n",
    "    print(\"Modo inválido. Debe ser 'most' o 'least'.\")"
   ]
  },
  {
   "attachments": {},
   "cell_type": "markdown",
   "metadata": {},
   "source": [
    "5) Crear una función que convierta entre grados Celsius, Farenheit y Kelvin<br>\n",
    "Fórmula 1\t: (°C × 9/5) + 32 = °F<br>\n",
    "Fórmula 2\t: °C + 273.15 = °K<br>\n",
    "Debe recibir 3 parámetros: el valor, la medida de orígen y la medida de destino\n"
   ]
  },
  {
   "cell_type": "code",
   "execution_count": 25,
   "metadata": {},
   "outputs": [
    {
     "name": "stdout",
     "output_type": "stream",
     "text": [
      "278 Kelvin is equal to 4.850000000000023 Celsius.\n"
     ]
    }
   ],
   "source": [
    "def convert_temperature(value, source_unit, target_unit):\n",
    "    if source_unit == \"Celsius\":\n",
    "        if target_unit == \"Fahrenheit\":\n",
    "            return value * 1.8 + 32\n",
    "        elif target_unit == \"Kelvin\":\n",
    "            return value + 273.15\n",
    "    elif source_unit == \"Fahrenheit\":\n",
    "        if target_unit == \"Kelvin\":\n",
    "            return (value + 459.67) * 5/9\n",
    "        elif target_unit == \"Celsius\":\n",
    "            return (value - 32) * 5/9\n",
    "    elif source_unit == \"Kelvin\":\n",
    "        if target_unit == \"Celsius\":\n",
    "            return value - 273.15\n",
    "        elif target_unit == \"Fahrenheit\":\n",
    "            return (value * 9/5) - 459.67\n",
    "        \n",
    "    print(\"Unrecognized source or target unit.\")\n",
    "    return None\n",
    "\n",
    "# Ejemplo de uso:\n",
    "value_to_convert = 278\n",
    "source_unit = \"Kelvin\"\n",
    "target_unit = \"Celsius\"\n",
    "\n",
    "converted_value = convert_temperature(value_to_convert, source_unit, target_unit)\n",
    "if converted_value is not None:\n",
    "    print(f\"{value_to_convert} {source_unit} is equal to {converted_value} {target_unit}.\")\n"
   ]
  },
  {
   "attachments": {},
   "cell_type": "markdown",
   "metadata": {},
   "source": [
    "6) Iterando una lista con los tres valores posibles de temperatura que recibe la función del punto 5, hacer un print para cada combinación de los mismos:"
   ]
  },
  {
   "cell_type": "code",
   "execution_count": 16,
   "metadata": {},
   "outputs": [
    {
     "name": "stdout",
     "output_type": "stream",
     "text": [
      "35 Celsius is equal to 308.15 Kelvin.\n",
      "35 Celsius is equal to 95.0 Fahrenheit.\n",
      "-12 Celsius is equal to 261.15 Kelvin.\n",
      "-12 Celsius is equal to 10.399999999999999 Fahrenheit.\n",
      "13.6 Celsius is equal to 286.75 Kelvin.\n",
      "13.6 Celsius is equal to 56.480000000000004 Fahrenheit.\n"
     ]
    }
   ],
   "source": [
    "def convert_temperature(value, source_unit, target_unit):\n",
    "    if source_unit == \"Celsius\":\n",
    "        if target_unit == \"Fahrenheit\":\n",
    "            return value * 1.8 + 32\n",
    "        elif target_unit == \"Kelvin\":\n",
    "            return value + 273.15\n",
    "    elif source_unit == \"Fahrenheit\":\n",
    "        if target_unit == \"Kelvin\":\n",
    "            return (value + 459.67) * 5/9\n",
    "        elif target_unit == \"Celsius\":\n",
    "            return (value - 32) * 5/9\n",
    "    elif source_unit == \"Kelvin\":\n",
    "        if target_unit == \"Celsius\":\n",
    "            return value - 273.15\n",
    "        elif target_unit == \"Fahrenheit\":\n",
    "            return (value * 9/5) - 459.67\n",
    "        \n",
    "    print(\"Unrecognized source or target unit.\")\n",
    "    return None\n",
    "\n",
    "# Ejemplo de uso:\n",
    "value_to_convert = 5\n",
    "source_unit = \"Celsius\"\n",
    "target_unit = \"Kelvin\"\n",
    "\n",
    "values_to_convert = [35, -12, 13.6]\n",
    "target_units = ['Kelvin', 'Celsius', 'Fahrenheit']\n",
    "\n",
    "for value_to_convert in values_to_convert:\n",
    "    for target_unit in target_units:\n",
    "        if target_unit != source_unit:\n",
    "            converted_value = convert_temperature(value_to_convert, source_unit, target_unit)\n",
    "            if converted_value is not None:\n",
    "                print(f\"{value_to_convert} {source_unit} is equal to {converted_value} {target_unit}.\")\n",
    "\n"
   ]
  },
  {
   "attachments": {},
   "cell_type": "markdown",
   "metadata": {},
   "source": [
    "7) Armar una función que devuelva el factorial de un número. Tener en cuenta que el usuario puede equivocarse y enviar de parámetro un número no entero o negativo"
   ]
  },
  {
   "cell_type": "code",
   "execution_count": 23,
   "metadata": {},
   "outputs": [
    {
     "name": "stdout",
     "output_type": "stream",
     "text": [
      "El factorial de 5 es 120\n"
     ]
    }
   ],
   "source": [
    "\n",
    "number = int(input(\"Int > 0: \"))\n",
    "\n",
    "# Verificar si el número es válido\n",
    "if number > 0:\n",
    "    factorial = 1\n",
    "    contador = 1\n",
    "    \n",
    "    # Calcular el factorial utilizando un ciclo while\n",
    "    while contador <= number:\n",
    "        factorial *= contador\n",
    "        contador += 1\n",
    "    \n",
    "    print(\"El factorial de\", number, \"es\", factorial)\n",
    "else:\n",
    "    print(\"El número debe ser mayor a 0.\")"
   ]
  }
 ],
 "metadata": {
  "interpreter": {
   "hash": "c85384e4cb51c8b72350f3a8712cc8351fdc3955e32a27f9b60c6242ab125f01"
  },
  "kernelspec": {
   "display_name": "Python 3 (ipykernel)",
   "language": "python",
   "name": "python3"
  },
  "language_info": {
   "codemirror_mode": {
    "name": "ipython",
    "version": 3
   },
   "file_extension": ".py",
   "mimetype": "text/x-python",
   "name": "python",
   "nbconvert_exporter": "python",
   "pygments_lexer": "ipython3",
   "version": "3.11.3"
  }
 },
 "nbformat": 4,
 "nbformat_minor": 4
}
