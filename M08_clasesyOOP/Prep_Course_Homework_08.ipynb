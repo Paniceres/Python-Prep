{
 "cells": [
  {
   "attachments": {},
   "cell_type": "markdown",
   "metadata": {},
   "source": [
    "## Clases y Programación Orientada a Objetos"
   ]
  },
  {
   "attachments": {},
   "cell_type": "markdown",
   "metadata": {},
   "source": [
    "1) Crear la clase vehículo que contenga los atributos:<br>\n",
    "Color<br>\n",
    "Si es moto, auto, camioneta ó camión<br>\n",
    "Cilindrada del motor"
   ]
  },
  {
   "cell_type": "code",
   "execution_count": 2,
   "metadata": {},
   "outputs": [],
   "source": [
    "class Vehicle:\n",
    "    def __init__(self, color, vehicle_type, cc):\n",
    "        self.color = color\n",
    "        self.vehicle_type = vehicle_type\n",
    "        self.cc = cc"
   ]
  },
  {
   "attachments": {},
   "cell_type": "markdown",
   "metadata": {},
   "source": [
    "2) A la clase Vehiculo creada en el punto 1, agregar los siguientes métodos:<br>\n",
    "Acelerar<br>\n",
    "Frenar<br>\n",
    "Doblar<br>"
   ]
  },
  {
   "cell_type": "code",
   "execution_count": 7,
   "metadata": {},
   "outputs": [],
   "source": [
    "class Vehicle:\n",
    "    def __init__(self, color, vehicle_type, cc):\n",
    "        self.color = color\n",
    "        self.vehicle_type = vehicle_type\n",
    "        self.cc = cc\n",
    "        self.velocity = 0\n",
    "        self.direction = 0\n",
    "        \n",
    "    def Acelerate(self, vel):\n",
    "        self.velocity += vel\n",
    "    \n",
    "    def Desacelerate(self, vel):\n",
    "        self.velocity -= vel\n",
    "    \n",
    "    def Direction(self, dire):\n",
    "        self.direction += dire"
   ]
  },
  {
   "attachments": {},
   "cell_type": "markdown",
   "metadata": {},
   "source": [
    "3) Instanciar 3 objetos de la clase vehículo y ejecutar sus métodos, probar luego el resultado"
   ]
  },
  {
   "cell_type": "code",
   "execution_count": 12,
   "metadata": {},
   "outputs": [],
   "source": [
    "vehicle1 = Vehicle('red', 'car', 3.2)\n",
    "vehicle2 = Vehicle('blue', 'truck', 5.6)\n",
    "vehicle3 = Vehicle('white', 'motorbike', 1.0)"
   ]
  },
  {
   "cell_type": "code",
   "execution_count": 14,
   "metadata": {},
   "outputs": [],
   "source": [
    "vehicle1.Acelerate(220)\n",
    "vehicle1.Desacelerate(30)\n",
    "vehicle1.Direction(50)\n",
    "vehicle1.Direction(-70)\n",
    "\n",
    "vehicle2.Acelerate(60)\n",
    "vehicle2.Desacelerate(80)\n",
    "vehicle2.Direction(50)\n",
    "vehicle2.Direction(20)\n",
    "\n",
    "vehicle3.Acelerate(190)\n",
    "vehicle3.Desacelerate(130)\n",
    "vehicle3.Direction(30)\n",
    "vehicle3.Direction(-20)"
   ]
  },
  {
   "attachments": {},
   "cell_type": "markdown",
   "metadata": {},
   "source": [
    "4) Agregar a la clase Vehiculo, un método que muestre su estado, es decir, a que velocidad se encuentra y su dirección. Y otro método que muestre color, tipo y cilindrada"
   ]
  },
  {
   "cell_type": "code",
   "execution_count": 21,
   "metadata": {},
   "outputs": [],
   "source": [
    "class Vehicle:\n",
    "    def __init__(self, color, vehicle_type, cc):\n",
    "        self.color = color\n",
    "        self.vehicle_type = vehicle_type\n",
    "        self.cc = cc\n",
    "        self.velocity = 0\n",
    "        self.direction = 0\n",
    "        \n",
    "    def Acelerate(self, vel):\n",
    "        self.velocity += vel\n",
    "    \n",
    "    def Desacelerate(self, vel):\n",
    "        self.velocity -= vel\n",
    "    \n",
    "    def Direction(self, dire):\n",
    "        self.direction += dire\n",
    "    \n",
    "    def State(self):\n",
    "        print('Velocity: ', self.velocity, 'Direction: ', self.direction)\n",
    "    \n",
    "    def Details(self):\n",
    "        print('Type: ', self.vehicle_type, 'Color: ', self.color, 'Cc: ', self.cc)"
   ]
  },
  {
   "cell_type": "code",
   "execution_count": 22,
   "metadata": {},
   "outputs": [
    {
     "ename": "ModuleNotFoundError",
     "evalue": "No module named 'Vehicle'",
     "output_type": "error",
     "traceback": [
      "\u001b[0;31m---------------------------------------------------------------------------\u001b[0m",
      "\u001b[0;31mModuleNotFoundError\u001b[0m                       Traceback (most recent call last)",
      "Cell \u001b[0;32mIn[22], line 1\u001b[0m\n\u001b[0;32m----> 1\u001b[0m \u001b[39mimport\u001b[39;00m \u001b[39mVehicle\u001b[39;00m\n\u001b[1;32m      2\u001b[0m \u001b[39mimport\u001b[39;00m \u001b[39mimportlib\u001b[39;00m\n\u001b[1;32m      4\u001b[0m importlib\u001b[39m.\u001b[39mreload(Vehicle)\n",
      "\u001b[0;31mModuleNotFoundError\u001b[0m: No module named 'Vehicle'"
     ]
    }
   ],
   "source": [
    "import Vehicle\n",
    "import importlib\n",
    "\n",
    "importlib.reload(Vehicle)\n",
    "\n",
    "vehicle1.State()\n",
    "vehicle1.Details()\n"
   ]
  },
  {
   "attachments": {},
   "cell_type": "markdown",
   "metadata": {},
   "source": [
    "5) Crear una clase que permita utilizar las funciones creadas en la práctica del módulo 7<br>\n",
    "Verificar Primo<br>\n",
    "Valor modal<br>\n",
    "Conversión grados<br>\n",
    "Factorial<br>"
   ]
  },
  {
   "cell_type": "code",
   "execution_count": null,
   "metadata": {},
   "outputs": [],
   "source": []
  },
  {
   "attachments": {},
   "cell_type": "markdown",
   "metadata": {},
   "source": [
    "6) Probar las funciones incorporadas en la clase del punto 5"
   ]
  },
  {
   "cell_type": "code",
   "execution_count": null,
   "metadata": {},
   "outputs": [],
   "source": []
  },
  {
   "attachments": {},
   "cell_type": "markdown",
   "metadata": {},
   "source": [
    "7) Es necesario que la clase creada en el punto 5 contenga una lista, sobre la cual se apliquen las funciones incorporadas"
   ]
  },
  {
   "cell_type": "code",
   "execution_count": null,
   "metadata": {},
   "outputs": [],
   "source": []
  },
  {
   "attachments": {},
   "cell_type": "markdown",
   "metadata": {},
   "source": [
    "8) Crear un archivo .py aparte y ubicar allí la clase generada en el punto anterior. Luego realizar la importación del módulo y probar alguna de sus funciones"
   ]
  },
  {
   "cell_type": "code",
   "execution_count": null,
   "metadata": {},
   "outputs": [],
   "source": []
  }
 ],
 "metadata": {
  "interpreter": {
   "hash": "c85384e4cb51c8b72350f3a8712cc8351fdc3955e32a27f9b60c6242ab125f01"
  },
  "kernelspec": {
   "display_name": "Python 3 (ipykernel)",
   "language": "python",
   "name": "python3"
  },
  "language_info": {
   "codemirror_mode": {
    "name": "ipython",
    "version": 3
   },
   "file_extension": ".py",
   "mimetype": "text/x-python",
   "name": "python",
   "nbconvert_exporter": "python",
   "pygments_lexer": "ipython3",
   "version": "3.11.3"
  }
 },
 "nbformat": 4,
 "nbformat_minor": 4
}
