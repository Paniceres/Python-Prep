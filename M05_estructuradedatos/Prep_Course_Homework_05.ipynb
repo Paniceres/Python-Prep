{
 "cells": [
  {
   "attachments": {},
   "cell_type": "markdown",
   "metadata": {},
   "source": [
    "## Estructuras de Datos"
   ]
  },
  {
   "attachments": {},
   "cell_type": "markdown",
   "metadata": {},
   "source": [
    "1) Crear una lista que contenga nombres de ciudades del mundo que contenga más de 5 elementos e imprimir por pantalla"
   ]
  },
  {
   "cell_type": "code",
   "execution_count": 9,
   "metadata": {},
   "outputs": [],
   "source": [
    "citys = ['Trelew', 'Tenerife', 'Bangkok', 'Toronto', 'Estambul', 'Londres', 'Ebisu']"
   ]
  },
  {
   "attachments": {},
   "cell_type": "markdown",
   "metadata": {},
   "source": [
    "2) Imprimir por pantalla el segundo elemento de la lista"
   ]
  },
  {
   "cell_type": "code",
   "execution_count": 5,
   "metadata": {},
   "outputs": [
    {
     "name": "stdout",
     "output_type": "stream",
     "text": [
      "Tenerife\n"
     ]
    }
   ],
   "source": [
    "print(citys[1])"
   ]
  },
  {
   "attachments": {},
   "cell_type": "markdown",
   "metadata": {},
   "source": [
    "3) Imprimir por pantalla del segundo al cuarto elemento"
   ]
  },
  {
   "cell_type": "code",
   "execution_count": 6,
   "metadata": {},
   "outputs": [
    {
     "name": "stdout",
     "output_type": "stream",
     "text": [
      "['Tenerife', 'Bangkok', 'Toronto']\n"
     ]
    }
   ],
   "source": [
    "print(citys[1:4])"
   ]
  },
  {
   "attachments": {},
   "cell_type": "markdown",
   "metadata": {},
   "source": [
    "4) Visualizar el tipo de dato de la lista"
   ]
  },
  {
   "cell_type": "code",
   "execution_count": 7,
   "metadata": {},
   "outputs": [
    {
     "name": "stdout",
     "output_type": "stream",
     "text": [
      "<class 'list'>\n"
     ]
    }
   ],
   "source": [
    "print(type(citys))"
   ]
  },
  {
   "attachments": {},
   "cell_type": "markdown",
   "metadata": {},
   "source": [
    "5) Visualizar todos los elementos de la lista a partir del tercero de manera genérica, es decir, sin explicitar la posición del último elemento"
   ]
  },
  {
   "cell_type": "code",
   "execution_count": 8,
   "metadata": {},
   "outputs": [
    {
     "name": "stdout",
     "output_type": "stream",
     "text": [
      "['Bangkok', 'Toronto', 'Estambul', 'Londres', 'Ebisu']\n"
     ]
    }
   ],
   "source": [
    "print(citys[2:])"
   ]
  },
  {
   "attachments": {},
   "cell_type": "markdown",
   "metadata": {},
   "source": [
    "6) Visualizar los primeros 4 elementos de la lista"
   ]
  },
  {
   "cell_type": "code",
   "execution_count": 10,
   "metadata": {},
   "outputs": [
    {
     "name": "stdout",
     "output_type": "stream",
     "text": [
      "['Trelew', 'Tenerife', 'Bangkok', 'Toronto']\n"
     ]
    }
   ],
   "source": [
    "print(citys[:4])"
   ]
  },
  {
   "attachments": {},
   "cell_type": "markdown",
   "metadata": {},
   "source": [
    "7) Agregar una ciudad más a la lista que ya exista y otra que no ¿Arroja algún tipo de error?"
   ]
  },
  {
   "cell_type": "code",
   "execution_count": 23,
   "metadata": {},
   "outputs": [
    {
     "name": "stdout",
     "output_type": "stream",
     "text": [
      "['Trelew', 'Tenerife', 'Bangkok', 'Pekin', 'Estambul', 'Londres', 'Sidney', 'Toronto']\n"
     ]
    }
   ],
   "source": [
    "citys.append('Sidney')\n",
    "citys.append('Toronto')\n",
    "print(citys)"
   ]
  },
  {
   "attachments": {},
   "cell_type": "markdown",
   "metadata": {},
   "source": [
    "8) Agregar otra ciudad, pero en la cuarta posición"
   ]
  },
  {
   "cell_type": "code",
   "execution_count": 14,
   "metadata": {},
   "outputs": [],
   "source": [
    "citys.insert(3, 'Pekin')"
   ]
  },
  {
   "attachments": {},
   "cell_type": "markdown",
   "metadata": {},
   "source": [
    "9) Concatenar otra lista a la ya creada"
   ]
  },
  {
   "cell_type": "code",
   "execution_count": 10,
   "metadata": {},
   "outputs": [
    {
     "name": "stdout",
     "output_type": "stream",
     "text": [
      "['Trelew', 'Tenerife', 'Bangkok', 'Toronto', 'Estambul', 'Londres', 'Ebisu', 'Seul', 'Berlin', 'Atenas', 'Dubai', 'Oslo']\n"
     ]
    }
   ],
   "source": [
    "citys2 = [\"Seul\", \"Berlin\", \"Atenas\", \"Dubai\", \"Oslo\"]\n",
    "citys3 = citys + citys2\n",
    "print(citys3)\n"
   ]
  },
  {
   "attachments": {},
   "cell_type": "markdown",
   "metadata": {},
   "source": [
    "10) Encontrar el índice de la ciudad que en el punto 7 agregamos duplicada. ¿Se nota alguna particularidad?"
   ]
  },
  {
   "cell_type": "code",
   "execution_count": 16,
   "metadata": {},
   "outputs": [
    {
     "name": "stdout",
     "output_type": "stream",
     "text": [
      "4\n"
     ]
    }
   ],
   "source": [
    "print(citys3.index('Toronto'))"
   ]
  },
  {
   "attachments": {},
   "cell_type": "markdown",
   "metadata": {},
   "source": [
    "11) ¿Qué pasa si se busca un elemento que no existe?"
   ]
  },
  {
   "cell_type": "code",
   "execution_count": 17,
   "metadata": {},
   "outputs": [
    {
     "ename": "IndexError",
     "evalue": "list index out of range",
     "output_type": "error",
     "traceback": [
      "\u001b[0;31m---------------------------------------------------------------------------\u001b[0m",
      "\u001b[0;31mIndexError\u001b[0m                                Traceback (most recent call last)",
      "Cell \u001b[0;32mIn[17], line 1\u001b[0m\n\u001b[0;32m----> 1\u001b[0m \u001b[39mprint\u001b[39m(citys[\u001b[39m23\u001b[39;49m])\n",
      "\u001b[0;31mIndexError\u001b[0m: list index out of range"
     ]
    }
   ],
   "source": [
    "print(citys[23])"
   ]
  },
  {
   "attachments": {},
   "cell_type": "markdown",
   "metadata": {},
   "source": [
    "12) Eliminar un elemento de la lista"
   ]
  },
  {
   "cell_type": "code",
   "execution_count": 18,
   "metadata": {},
   "outputs": [],
   "source": [
    "citys.remove('Toronto')"
   ]
  },
  {
   "attachments": {},
   "cell_type": "markdown",
   "metadata": {},
   "source": [
    "13) ¿Qué pasa si el elemento a eliminar no existe?"
   ]
  },
  {
   "cell_type": "code",
   "execution_count": 19,
   "metadata": {},
   "outputs": [
    {
     "ename": "ValueError",
     "evalue": "list.remove(x): x not in list",
     "output_type": "error",
     "traceback": [
      "\u001b[0;31m---------------------------------------------------------------------------\u001b[0m",
      "\u001b[0;31mValueError\u001b[0m                                Traceback (most recent call last)",
      "Cell \u001b[0;32mIn[19], line 1\u001b[0m\n\u001b[0;32m----> 1\u001b[0m citys\u001b[39m.\u001b[39;49mremove(\u001b[39m'\u001b[39;49m\u001b[39mHawai\u001b[39;49m\u001b[39m'\u001b[39;49m)\n",
      "\u001b[0;31mValueError\u001b[0m: list.remove(x): x not in list"
     ]
    }
   ],
   "source": [
    "citys.remove('Hawai')"
   ]
  },
  {
   "attachments": {},
   "cell_type": "markdown",
   "metadata": {},
   "source": [
    "14) Extraer el úlimo elemento de la lista, guardarlo en una variable e imprimirlo"
   ]
  },
  {
   "cell_type": "code",
   "execution_count": 24,
   "metadata": {},
   "outputs": [
    {
     "name": "stdout",
     "output_type": "stream",
     "text": [
      "['Trelew', 'Tenerife', 'Bangkok', 'Pekin', 'Estambul', 'Londres', 'Sidney', 'Toronto']\n",
      "Toronto\n"
     ]
    }
   ],
   "source": [
    "print(citys)\n",
    "last_city = citys.pop()\n",
    "print(last_city)"
   ]
  },
  {
   "attachments": {},
   "cell_type": "markdown",
   "metadata": {},
   "source": [
    "15) Mostrar la lista multiplicada por 4"
   ]
  },
  {
   "cell_type": "code",
   "execution_count": 25,
   "metadata": {},
   "outputs": [
    {
     "name": "stdout",
     "output_type": "stream",
     "text": [
      "['Trelew', 'Tenerife', 'Bangkok', 'Pekin', 'Estambul', 'Londres', 'Sidney', 'Trelew', 'Tenerife', 'Bangkok', 'Pekin', 'Estambul', 'Londres', 'Sidney', 'Trelew', 'Tenerife', 'Bangkok', 'Pekin', 'Estambul', 'Londres', 'Sidney', 'Trelew', 'Tenerife', 'Bangkok', 'Pekin', 'Estambul', 'Londres', 'Sidney']\n"
     ]
    }
   ],
   "source": [
    "print(citys*4)"
   ]
  },
  {
   "attachments": {},
   "cell_type": "markdown",
   "metadata": {},
   "source": [
    "16) Crear una tupla que contenga los números enteros del 1 al 20"
   ]
  },
  {
   "cell_type": "code",
   "execution_count": 3,
   "metadata": {},
   "outputs": [
    {
     "name": "stdout",
     "output_type": "stream",
     "text": [
      "(1, 2, 3, 4, 5, 6, 7, 8, 9, 10, 11, 12, 13, 14, 15, 16, 17, 18, 19, 20)\n"
     ]
    }
   ],
   "source": [
    "numbers = tuple(range(1, 21))\n",
    "print(numbers)"
   ]
  },
  {
   "attachments": {},
   "cell_type": "markdown",
   "metadata": {},
   "source": [
    "17) Imprimir desde el índice 10 al 15 de la tupla"
   ]
  },
  {
   "cell_type": "code",
   "execution_count": 30,
   "metadata": {},
   "outputs": [
    {
     "name": "stdout",
     "output_type": "stream",
     "text": [
      "(11, 12, 13, 14, 15)\n"
     ]
    }
   ],
   "source": [
    "print(numbers[10:15])"
   ]
  },
  {
   "attachments": {},
   "cell_type": "markdown",
   "metadata": {},
   "source": [
    "18) Evaluar si los números 20 y 30 están dentro de la tupla"
   ]
  },
  {
   "cell_type": "code",
   "execution_count": 35,
   "metadata": {},
   "outputs": [
    {
     "name": "stdout",
     "output_type": "stream",
     "text": [
      "out\n"
     ]
    }
   ],
   "source": [
    "if 20 and 30 in numbers:\n",
    "    print('in')\n",
    "else:\n",
    "    print('out')"
   ]
  },
  {
   "attachments": {},
   "cell_type": "markdown",
   "metadata": {},
   "source": [
    "19) Con la lista creada en el punto 1, validar la existencia del elemento 'París' y si no existe, agregarlo. Utilizar una variable e informar lo sucedido."
   ]
  },
  {
   "cell_type": "code",
   "execution_count": 36,
   "metadata": {},
   "outputs": [
    {
     "name": "stdout",
     "output_type": "stream",
     "text": [
      "Se ha agregado 'Paris' a la lista.\n",
      "['Trelew', 'Tenerife', 'Bangkok', 'Toronto', 'Estambul', 'Londres', 'Ebisu', 'Paris']\n"
     ]
    }
   ],
   "source": [
    "citys = ['Trelew', 'Tenerife', 'Bangkok', 'Toronto', 'Estambul', 'Londres', 'Ebisu']\n",
    "\n",
    "if 'Paris' not in citys:\n",
    "    citys.append('Paris')\n",
    "    message = \"Se ha agregado 'Paris' a la lista.\"\n",
    "else:\n",
    "    message = \"'Paris' ya está presente en la lista.\"\n",
    "\n",
    "print(message)\n",
    "print(citys)\n"
   ]
  },
  {
   "attachments": {},
   "cell_type": "markdown",
   "metadata": {},
   "source": [
    "20) Mostrar la cantidad de veces que se encuentra un elemento específico dentro de la tupla y de la lista"
   ]
  },
  {
   "cell_type": "code",
   "execution_count": 40,
   "metadata": {},
   "outputs": [
    {
     "name": "stdout",
     "output_type": "stream",
     "text": [
      "1\n",
      "1\n"
     ]
    }
   ],
   "source": [
    "print(numbers.count(10))\n",
    "print(citys.count('Tenerife'))"
   ]
  },
  {
   "attachments": {},
   "cell_type": "markdown",
   "metadata": {},
   "source": [
    "21) Convertir la tupla en una lista"
   ]
  },
  {
   "cell_type": "code",
   "execution_count": 2,
   "metadata": {},
   "outputs": [
    {
     "ename": "NameError",
     "evalue": "name 'numbers' is not defined",
     "output_type": "error",
     "traceback": [
      "\u001b[0;31m---------------------------------------------------------------------------\u001b[0m",
      "\u001b[0;31mNameError\u001b[0m                                 Traceback (most recent call last)",
      "Cell \u001b[0;32mIn[2], line 1\u001b[0m\n\u001b[0;32m----> 1\u001b[0m \u001b[39mprint\u001b[39m(\u001b[39mtype\u001b[39m(numbers))\n\u001b[1;32m      2\u001b[0m numbers2 \u001b[39m=\u001b[39m \u001b[39mlist\u001b[39m(numbers)\n\u001b[1;32m      3\u001b[0m \u001b[39mprint\u001b[39m(numbers2)\n",
      "\u001b[0;31mNameError\u001b[0m: name 'numbers' is not defined"
     ]
    }
   ],
   "source": [
    "print(type(numbers))\n",
    "numbers2 = list(numbers)\n",
    "print(numbers2)\n",
    "print(type(numbers2))\n"
   ]
  },
  {
   "attachments": {},
   "cell_type": "markdown",
   "metadata": {},
   "source": [
    "22) Desempaquetar solo los primeros 3 elementos de la tupla en 3 variables"
   ]
  },
  {
   "cell_type": "code",
   "execution_count": 8,
   "metadata": {},
   "outputs": [
    {
     "name": "stdout",
     "output_type": "stream",
     "text": [
      "1 2 3\n"
     ]
    }
   ],
   "source": [
    "var1, var2, var3 = numbers[0:3]\n",
    "print(var1,var2,var3)"
   ]
  },
  {
   "attachments": {},
   "cell_type": "markdown",
   "metadata": {},
   "source": [
    "23) Crear un diccionario utilizando la lista crada en el punto 1, asignandole la clave \"ciudad\". Agregar tambien otras claves, como puede ser \"Pais\" y \"Continente\"."
   ]
  },
  {
   "cell_type": "code",
   "execution_count": 29,
   "metadata": {},
   "outputs": [
    {
     "name": "stdout",
     "output_type": "stream",
     "text": [
      "{'pais': 'Argentina', 'continente': 'América'}\n"
     ]
    }
   ],
   "source": [
    "Places = {'ciudad': citys3}\n",
    "# citys3 = ['Trelew', 'Tenerife', 'Bangkok', 'Toronto', 'Estambul', 'Londres', 'Ebisu', 'Seul', 'Berlin', 'Atenas', 'Dubai', 'Oslo']\n",
    "paises = ['Argentina', 'España', 'Tailandia', 'Canadá', 'Turquía', 'Reino Unido', 'Japón', 'Corea del Sur', 'Alemania', 'Grecia', 'Emiratos Árabes Unidos', 'Noruega']\n",
    "continentes = ['América', 'Europa', 'Asia', 'América', 'Asia', 'Europa', 'Asia', 'Asia', 'Europa', 'Europa', 'Asia', 'Europa']\n",
    "\n",
    "# Crear el diccionario Places con las claves \"ciudad\", \"pais\" y \"continente\"\n",
    "Places = {}\n",
    "for i in range(len(citys3)):\n",
    "    ciudad = citys3[i]\n",
    "    pais = paises[i]\n",
    "    continente = continentes[i]\n",
    "    Places[ciudad] = {\"pais\": pais, \"continente\": continente}\n",
    "\n",
    "# Acceder a los datos de una ciudad específica\n",
    "ciudad_seleccionada = 'Trelew'\n",
    "datos_ciudad = Places[ciudad_seleccionada]\n",
    "print(datos_ciudad)\n"
   ]
  },
  {
   "attachments": {},
   "cell_type": "markdown",
   "metadata": {},
   "source": [
    "24) Imprimir las claves del diccionario"
   ]
  },
  {
   "cell_type": "code",
   "execution_count": 31,
   "metadata": {},
   "outputs": [
    {
     "name": "stdout",
     "output_type": "stream",
     "text": [
      "dict_keys(['Trelew', 'Tenerife', 'Bangkok', 'Toronto', 'Estambul', 'Londres', 'Ebisu', 'Seul', 'Berlin', 'Atenas', 'Dubai', 'Oslo'])\n",
      "dict_values([{'pais': 'Argentina', 'continente': 'América'}, {'pais': 'España', 'continente': 'Europa'}, {'pais': 'Tailandia', 'continente': 'Asia'}, {'pais': 'Canadá', 'continente': 'América'}, {'pais': 'Turquía', 'continente': 'Asia'}, {'pais': 'Reino Unido', 'continente': 'Europa'}, {'pais': 'Japón', 'continente': 'Asia'}, {'pais': 'Corea del Sur', 'continente': 'Asia'}, {'pais': 'Alemania', 'continente': 'Europa'}, {'pais': 'Grecia', 'continente': 'Europa'}, {'pais': 'Emiratos Árabes Unidos', 'continente': 'Asia'}, {'pais': 'Noruega', 'continente': 'Europa'}])\n"
     ]
    }
   ],
   "source": [
    "claves = Places.keys()\n",
    "print(claves)\n",
    "valores = Places.values()\n",
    "print(valores)"
   ]
  },
  {
   "attachments": {},
   "cell_type": "markdown",
   "metadata": {},
   "source": [
    "25) Imprimir las ciudades a través de su clave"
   ]
  },
  {
   "cell_type": "code",
   "execution_count": 30,
   "metadata": {},
   "outputs": [
    {
     "name": "stdout",
     "output_type": "stream",
     "text": [
      "Trelew\n",
      "Tenerife\n",
      "Bangkok\n",
      "Toronto\n",
      "Estambul\n",
      "Londres\n",
      "Ebisu\n",
      "Seul\n",
      "Berlin\n",
      "Atenas\n",
      "Dubai\n",
      "Oslo\n"
     ]
    }
   ],
   "source": [
    "for ciudad in Places.keys():\n",
    "    print(ciudad)"
   ]
  }
 ],
 "metadata": {
  "interpreter": {
   "hash": "c85384e4cb51c8b72350f3a8712cc8351fdc3955e32a27f9b60c6242ab125f01"
  },
  "kernelspec": {
   "display_name": "Python 3 (ipykernel)",
   "language": "python",
   "name": "python3"
  },
  "language_info": {
   "codemirror_mode": {
    "name": "ipython",
    "version": 3
   },
   "file_extension": ".py",
   "mimetype": "text/x-python",
   "name": "python",
   "nbconvert_exporter": "python",
   "pygments_lexer": "ipython3",
   "version": "3.11.3"
  }
 },
 "nbformat": 4,
 "nbformat_minor": 4
}
